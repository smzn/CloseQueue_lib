{
 "cells": [
  {
   "cell_type": "markdown",
   "metadata": {},
   "source": [
    "P317 Example 8.1"
   ]
  },
  {
   "cell_type": "code",
   "execution_count": 1,
   "metadata": {},
   "outputs": [],
   "source": [
    "import numpy as np"
   ]
  },
  {
   "cell_type": "code",
   "execution_count": 2,
   "metadata": {},
   "outputs": [],
   "source": [
    "N = 3\n",
    "K = 3\n",
    "mu = np.array([0.8, 0.6, 0.4])\n",
    "m = np.array([2, 3, 1])\n",
    "alpha = np.array([1.0, 0.667, 0.2])\n",
    "rho = alpha / mu"
   ]
  },
  {
   "cell_type": "code",
   "execution_count": 3,
   "metadata": {},
   "outputs": [],
   "source": [
    "def fact(n):\n",
    "    if n <= 1:\n",
    "        return 1\n",
    "    return n * fact(n-1)"
   ]
  },
  {
   "cell_type": "code",
   "execution_count": 4,
   "metadata": {},
   "outputs": [],
   "source": [
    "def getBeta(n, k): #P289 式 7.62\n",
    "    if m[n] == 1:\n",
    "        return 1\n",
    "    elif k <= m[n]:\n",
    "        return fact(k)\n",
    "    elif k >= m[n]:\n",
    "        return fact(m[n]) * m[n]**(k-m[n])"
   ]
  },
  {
   "cell_type": "code",
   "execution_count": 5,
   "metadata": {},
   "outputs": [],
   "source": [
    "def getF(n, k):#n:ノード番号は1引いた数字\n",
    "    f = (alpha[n]/mu[n])**k\n",
    "    f /= getBeta(n, k)\n",
    "    return f"
   ]
  },
  {
   "cell_type": "code",
   "execution_count": 6,
   "metadata": {},
   "outputs": [
    {
     "name": "stdout",
     "output_type": "stream",
     "text": [
      "n = 0, k = 0, F = 1.0\n",
      "n = 0, k = 1, F = 1.25\n",
      "n = 0, k = 2, F = 0.78125\n",
      "n = 0, k = 3, F = 0.48828125\n",
      "n = 1, k = 0, F = 1.0\n",
      "n = 1, k = 1, F = 1.1116666666666668\n",
      "n = 1, k = 2, F = 0.617901388888889\n",
      "n = 1, k = 3, F = 0.22896679243827167\n",
      "n = 2, k = 0, F = 1.0\n",
      "n = 2, k = 1, F = 0.5\n",
      "n = 2, k = 2, F = 0.25\n",
      "n = 2, k = 3, F = 0.125\n"
     ]
    }
   ],
   "source": [
    "for n in range(N):\n",
    "    for k in range(K+1): \n",
    "        print('n = {0}, k = {1}, F = {2}'.format(n, k, getF(n, k)))"
   ]
  },
  {
   "cell_type": "code",
   "execution_count": 7,
   "metadata": {},
   "outputs": [],
   "source": [
    "def calcConvolution(n, k, rho): #メモ化利用なし\n",
    "    #rho = alpha / mu\n",
    "    if k == 0: #Gj(0) = 1 (j = 1,...,N)\n",
    "        g = 1\n",
    "    elif n == 0:#G(0,k) = f0(k)\n",
    "        g = np.power(rho[n], k)\n",
    "    else : \n",
    "        g = calcConvolution(n-1, k,rho) + rho[n] * calcConvolution(n, k-1,rho)\n",
    "    return g"
   ]
  },
  {
   "cell_type": "code",
   "execution_count": 8,
   "metadata": {},
   "outputs": [
    {
     "name": "stdout",
     "output_type": "stream",
     "text": [
      "9.418018115740743\n"
     ]
    }
   ],
   "source": [
    "g = calcConvolution(N-1, K, rho) #ノード番号は1小さくしている\n",
    "print(g)\n",
    "#窓口数を考慮できないので値が合わない"
   ]
  },
  {
   "cell_type": "code",
   "execution_count": 9,
   "metadata": {},
   "outputs": [],
   "source": [
    "def getConvolution(n, k, rho): #QN&MC P314 式(8.4),(8.5),(8.6)利用\n",
    "    if k == 0:\n",
    "        g = 1\n",
    "    elif n == 0:\n",
    "        g = getF(n, k)\n",
    "    else :\n",
    "        g = 0\n",
    "        for i in range(k + 1):\n",
    "            g += getF(n, i) * getConvolution(n-1, k-i, rho)\n",
    "    #print('n = {0}, k = {1}, G(n,k) = {2}'.format(n, k, g)) #QN&MC P314 Table8.1\n",
    "    return g"
   ]
  },
  {
   "cell_type": "code",
   "execution_count": 10,
   "metadata": {},
   "outputs": [
    {
     "name": "stdout",
     "output_type": "stream",
     "text": [
      "4.467898389660494\n"
     ]
    }
   ],
   "source": [
    "g = getConvolution(N-1, K, rho) #ノード番号は1小さくしている\n",
    "print(g)"
   ]
  },
  {
   "cell_type": "code",
   "execution_count": 11,
   "metadata": {},
   "outputs": [],
   "source": [
    "def getMarginalProbabilities(n, k): #QN&MC P316 式(8.13)\n",
    "    pi = rho[n]**k / getConvolution(N-1, K, rho) * (getConvolution(N-1, K-k, rho) - rho[n] * getConvolution(N-1, K-k-1, rho))\n",
    "    return pi"
   ]
  },
  {
   "cell_type": "code",
   "execution_count": 12,
   "metadata": {},
   "outputs": [
    {
     "name": "stdout",
     "output_type": "stream",
     "text": [
      "pi(2,0) = 0.5277905082487573\n",
      "pi(2,1) = 0.31208573685066865\n",
      "pi(2,2) = 0.13214639527904107\n",
      "pi(2,3) = 0.02797735962153304\n"
     ]
    }
   ],
   "source": [
    "for k in range(K+1): #n = Nのとき\n",
    "    marginal = getMarginalProbabilities(N-1, k) #ノード番号は1小さくしている\n",
    "    print('pi({0},{1}) = {2}'.format(n, k, marginal))"
   ]
  },
  {
   "cell_type": "code",
   "execution_count": 13,
   "metadata": {},
   "outputs": [],
   "source": [
    "def getGi(n, k, rho): #QN&MC P316 式(8.11), (8.12)\n",
    "    if k == 0: #式(8.12)\n",
    "        gi = 1\n",
    "    else:\n",
    "        gi = getConvolution(N-1, k, rho)\n",
    "        for i in range(1, k + 1):\n",
    "            gi -= getF(n, i) * getGi(n, k-i, rho)\n",
    "    return gi"
   ]
  },
  {
   "cell_type": "code",
   "execution_count": 14,
   "metadata": {},
   "outputs": [
    {
     "name": "stdout",
     "output_type": "stream",
     "text": [
      "G(0,0) = 1\n",
      "G(0,1) = 1.6116666666666668\n",
      "G(0,2) = 1.423734722222222\n",
      "G(0,3) = 0.9408341535493832\n",
      "G(1,0) = 1\n",
      "G(1,1) = 1.75\n",
      "G(1,2) = 1.6562499999999996\n",
      "G(1,3) = 1.3164062500000002\n"
     ]
    }
   ],
   "source": [
    "for n in range(N-1): #QN&MC P319確認\n",
    "    for k in range(K+1):\n",
    "        gi = getGi(n, k, rho)\n",
    "        print('G({0},{1}) = {2}'.format(n, k, gi))"
   ]
  },
  {
   "cell_type": "code",
   "execution_count": 15,
   "metadata": {},
   "outputs": [],
   "source": [
    "def getMarginal(): #QN&MC P315 式(8.7)\n",
    "    mpi = np.zeros((N, K+1)) #周辺分布\n",
    "    l = np.zeros(N) #平均系内人数\n",
    "    for n in range(N):#周辺分布計算\n",
    "        for k in range(K+1):\n",
    "            mpi[n,k] = getF(n, k) * getGi(n, K - k, rho) / g\n",
    "    for n in range(N):\n",
    "        for k in range(K+1):\n",
    "            l[n] += k * mpi[n,k]\n",
    "    return mpi, l"
   ]
  },
  {
   "cell_type": "code",
   "execution_count": 16,
   "metadata": {},
   "outputs": [
    {
     "name": "stdout",
     "output_type": "stream",
     "text": [
      "[[0.21057644 0.39832338 0.28181361 0.10928656]\n",
      " [0.29463657 0.41209485 0.24202149 0.05124709]\n",
      " [0.52779051 0.31208574 0.1321464  0.02797736]]\n",
      "[1.28981029 1.0498791  0.66031061]\n"
     ]
    }
   ],
   "source": [
    "mpi, l = getMarginal()\n",
    "print(mpi)\n",
    "print(l)"
   ]
  },
  {
   "cell_type": "markdown",
   "metadata": {},
   "source": [
    "P323 Example 8.2"
   ]
  },
  {
   "cell_type": "code",
   "execution_count": 17,
   "metadata": {},
   "outputs": [],
   "source": [
    "N = 4\n",
    "R = 2\n",
    "K1 = 1\n",
    "K2 = 2\n",
    "mu = np.array([[1/1, 1/2],[1/4, 1/5],[1/8, 1/10],[1/12, 1/16]])\n",
    "alpha = np.array([[1, 1],[0.4, 0.4],[0.4, 0.3],[0.2, 0.3]])\n",
    "#Node1:Type2プロセッサシェアリング（Processor Sharing: PS）, Node2:Type4後着順割込継続型（LCFS-PR), Node3:Type4後着順割込継続型（LCFS-PR), Node4:Type3無限サーバ（Infinite Server: IS）, その他Type1(FCFS) "
   ]
  },
  {
   "cell_type": "code",
   "execution_count": 18,
   "metadata": {},
   "outputs": [],
   "source": [
    "# P323 Table 8.2 Fi(Si)の計算, P303式(7.82)\n",
    "#Siはノードiにおけるクラス別人数分布:(ノードiのクラス0の人数, ノードiのクラス1の人数)\n",
    "#Siは(0,0),(1,0),(0,1),(1,1),(0,2),(1,2) K1=1,K2=2なので\n",
    "def FS(n, alpha, mu, Si, type_number):#sは状態分布, type_number =1(FCFS),2(PS),3(IS),4(LCFS-PR)\n",
    "    f = 1\n",
    "    if type_number == 1:\n",
    "        print('FCFS') #ここはまだ未実装\n",
    "    else:\n",
    "        for r in range(R):#type-3はこのループで終わり\n",
    "            f *= 1 / fact(Si[r]) * (alpha[n,r] / mu[n,r])**Si[r]\n",
    "        if type_number == 2 or type_number == 4:#type-2,4は累乗をかける    \n",
    "            f *= fact(sum(Si))\n",
    "    return f"
   ]
  },
  {
   "cell_type": "code",
   "execution_count": 19,
   "metadata": {},
   "outputs": [
    {
     "name": "stdout",
     "output_type": "stream",
     "text": [
      "F0([0,0]) = 1.0\n",
      "F0([0,1]) = 2.0\n",
      "F0([0,2]) = 4.0\n",
      "F0([1,0]) = 1.0\n",
      "F0([1,1]) = 4.0\n",
      "F0([1,2]) = 12.0\n",
      "F1([0,0]) = 1.0\n",
      "F1([0,1]) = 2.0\n",
      "F1([0,2]) = 4.0\n",
      "F1([1,0]) = 1.6\n",
      "F1([1,1]) = 6.4\n",
      "F1([1,2]) = 19.200000000000003\n",
      "F2([0,0]) = 1.0\n",
      "F2([0,1]) = 2.9999999999999996\n",
      "F2([0,2]) = 8.999999999999998\n",
      "F2([1,0]) = 3.2\n",
      "F2([1,1]) = 19.2\n",
      "F2([1,2]) = 86.39999999999999\n",
      "F3([0,0]) = 1.0\n",
      "F3([0,1]) = 4.8\n",
      "F3([0,2]) = 11.52\n",
      "F3([1,0]) = 2.4000000000000004\n",
      "F3([1,1]) = 11.520000000000001\n",
      "F3([1,2]) = 27.648000000000003\n"
     ]
    }
   ],
   "source": [
    "type_number = [2, 4, 4, 3]\n",
    "type_list = [2, 4, 4, 3]\n",
    "for n in range(N):\n",
    "    for k1 in range(K1+1): #kのリストを作成\n",
    "        for k2 in range(K2+1):\n",
    "            f = FS(n, alpha, mu, [k1, k2], type_number[n])\n",
    "            print('F{0}([{1},{2}]) = {3}'.format(n, k1, k2, f))"
   ]
  },
  {
   "cell_type": "code",
   "execution_count": 20,
   "metadata": {},
   "outputs": [],
   "source": [
    "def getConvolution(n, alpha, mu, Si, type_num):#P321式(8.21)\n",
    "    g = 0\n",
    "    type_list = [2, 4, 4, 3] #type_listに名前変更(type_numberはFSの時は番号が変わらないのでいいが、再帰の時は番号が変わるのでtype_listと変えた。FSもtype_listとして処理した方が混乱しなくていいかも)\n",
    "    if n == 0:\n",
    "        g = FS(n, alpha, mu, Si, type_num)#\n",
    "    elif n >= 1:\n",
    "        for i in range(Si[0]+1):#課題：今回は2クラスなので２重ループでよかった。多クラスの対応を考える\n",
    "            for j in range(Si[1]+1):#解決法：重複組合せをリストで返す関数を呼び出し、そのリストをループで回せば良い\n",
    "                g += getConvolution(n-1, alpha, mu, [i,j], type_list[n-1]) * FS(n, alpha, mu, [Si[0]-i, Si[1]-j], type_num) #ここも多クラスの時の課題\n",
    "    return g            "
   ]
  },
  {
   "cell_type": "code",
   "execution_count": 21,
   "metadata": {},
   "outputs": [
    {
     "name": "stdout",
     "output_type": "stream",
     "text": [
      "G0(0,0) = 1.0\n",
      "G0(0,1) = 2.0\n",
      "G0(0,2) = 4.0\n",
      "G0(1,0) = 1.0\n",
      "G0(1,1) = 4.0\n",
      "G0(1,2) = 12.0\n",
      "G1(0,0) = 1.0\n",
      "G1(0,1) = 4.0\n",
      "G1(0,2) = 12.0\n",
      "G1(1,0) = 2.6\n",
      "G1(1,1) = 15.600000000000001\n",
      "G1(1,2) = 62.4\n",
      "G2(0,0) = 1.0\n",
      "G2(0,1) = 7.0\n",
      "G2(0,2) = 33.0\n",
      "G2(1,0) = 5.800000000000001\n",
      "G2(1,1) = 55.4\n",
      "G2(1,2) = 334.2\n",
      "G3(0,0) = 1.0\n",
      "G3(0,1) = 11.8\n",
      "G3(0,2) = 78.12\n",
      "G3(1,0) = 8.200000000000001\n",
      "G3(1,1) = 111.56\n",
      "G3(1,2) = 854.424\n",
      "854.424\n"
     ]
    }
   ],
   "source": [
    "GK = 0\n",
    "for n in range(N): #P324 Table 8.3\n",
    "    for k1 in range(K1+1):\n",
    "        for k2 in range(K2+1):\n",
    "            g = getConvolution(n, alpha, mu, [k1,k2], type_list[n])\n",
    "            print('G{0}({1},{2}) = {3}'.format(n,k1,k2,g))\n",
    "            if n == N-1 and k1 == K1 and k2 == K2: #定常分布で使うためGKを確保\n",
    "                GK = g\n",
    "print(GK)"
   ]
  },
  {
   "cell_type": "code",
   "execution_count": 22,
   "metadata": {},
   "outputs": [],
   "source": [
    "def getGi(n, Si, alpha, mu): #P322 式(8.25,26,27) 引数nはG_N^(i)のiに対応する\n",
    "    if sum(Si) == 0: #式(8.27)\n",
    "        gi = 1\n",
    "    else:\n",
    "        gi = getConvolution(N-1, alpha, mu, Si, type_list[N-1])\n",
    "        for k1 in range(Si[0]+1): #Siになるまでの全ての組み合わせ(課題：多クラスにも対応できるようにする)\n",
    "            for k2 in range(Si[1]+1):\n",
    "                if(k1 + k2 == 0):#j=0の場合は除く(8.26) \n",
    "                    continue\n",
    "                else:\n",
    "                    gi -= FS(n, alpha, mu, [k1, k2], type_list[n]) * getGi(n, [Si[0]-k1, Si[1]-k2], alpha, mu)\n",
    "    return gi"
   ]
  },
  {
   "cell_type": "code",
   "execution_count": 23,
   "metadata": {},
   "outputs": [
    {
     "name": "stdout",
     "output_type": "stream",
     "text": [
      "GN(0)(0,0) = 1\n",
      "GN(0)(0,1) = 9.8\n",
      "GN(0)(0,2) = 54.52\n",
      "GN(0)(1,0) = 7.200000000000001\n",
      "GN(0)(1,1) = 83.36\n",
      "GN(0)(1,2) = 553.184\n",
      "GN(1)(0,0) = 1\n",
      "GN(1)(0,1) = 9.8\n",
      "GN(1)(0,2) = 54.52\n",
      "GN(1)(1,0) = 6.600000000000001\n",
      "GN(1)(1,1) = 76.27999999999999\n",
      "GN(1)(1,2) = 506.31200000000007\n",
      "GN(2)(0,0) = 1\n",
      "GN(2)(0,1) = 8.8\n",
      "GN(2)(0,2) = 42.720000000000006\n",
      "GN(2)(1,0) = 5.000000000000001\n",
      "GN(2)(1,1) = 49.2\n",
      "GN(2)(1,2) = 269.7599999999999\n",
      "GN(3)(0,0) = 1\n",
      "GN(3)(0,1) = 7.000000000000001\n",
      "GN(3)(0,2) = 33.0\n",
      "GN(3)(1,0) = 5.800000000000001\n",
      "GN(3)(1,1) = 55.399999999999984\n",
      "GN(3)(1,2) = 334.20000000000005\n"
     ]
    }
   ],
   "source": [
    "for n in range(N):\n",
    "    for k1 in range(K1+1):\n",
    "        for k2 in range(K2+1):\n",
    "            gi = getGi(n, [k1, k2], alpha, mu)\n",
    "            print('GN({0})({1},{2}) = {3}'.format(n, k1, k2, gi))\n",
    "#最終ノードを除いた場合GN(3)(0,0) = 1 ~は数値OKだが、他のノードを除いた場合は確認できない"
   ]
  },
  {
   "cell_type": "code",
   "execution_count": 30,
   "metadata": {},
   "outputs": [],
   "source": [
    "#定常分布を求める\n",
    "#G(K)をgetConvolutionでN=n-1、Si=[K1,K2]となった時がGKなので最初にそれを取得してから(8.23)を計算する\n",
    "def getMarginalProbability(n, Si, alpha, mu):\n",
    "    mp = FS(n, alpha, mu, Si, type_list[n]) * getGi(n, [K1-Si[0], K2-Si[1]], alpha, mu) / GK\n",
    "    return mp"
   ]
  },
  {
   "cell_type": "code",
   "execution_count": 31,
   "metadata": {},
   "outputs": [
    {
     "name": "stdout",
     "output_type": "stream",
     "text": [
      "mp(0)(0,0) = 0.647434997144275\n",
      "mp(0)(0,1) = 0.19512560508599947\n",
      "mp(0)(0,2) = 0.033706918344990316\n",
      "mp(0)(1,0) = 0.06380906903364138\n",
      "mp(0)(1,1) = 0.04587886108068126\n",
      "mp(0)(1,2) = 0.01404454931041263\n",
      "mp(1)(0,0) = 0.5925769875378033\n",
      "mp(1)(0,1) = 0.17855303689971253\n",
      "mp(1)(0,2) = 0.03089800848290779\n",
      "mp(1)(1,0) = 0.10209451045382623\n",
      "mp(1)(1,1) = 0.07340617772909001\n",
      "mp(1)(1,2) = 0.02247127889666021\n",
      "mp(2)(0,0) = 0.31572146849807575\n",
      "mp(2)(0,1) = 0.17274795651807534\n",
      "mp(2)(0,2) = 0.05266705991404736\n",
      "mp(2)(1,0) = 0.15999550574422072\n",
      "mp(2)(1,1) = 0.19774725429060983\n",
      "mp(2)(1,2) = 0.10112075503497092\n",
      "mp(3)(0,0) = 0.39114069829499176\n",
      "mp(3)(0,1) = 0.31122721271874376\n",
      "mp(3)(0,2) = 0.07820005056037753\n",
      "mp(3)(1,0) = 0.09269402544872338\n",
      "mp(3)(1,1) = 0.09437937136597288\n",
      "mp(3)(1,2) = 0.0323586416111907\n"
     ]
    }
   ],
   "source": [
    "for n in range(N):\n",
    "    for k1 in range(K1+1):\n",
    "        for k2 in range(K2+1):\n",
    "            mp = getMarginalProbability(n, [k1, k2], alpha, mu)\n",
    "            print('mp({0})({1},{2}) = {3}'.format(n, k1, k2, mp))"
   ]
  },
  {
   "cell_type": "code",
   "execution_count": null,
   "metadata": {},
   "outputs": [],
   "source": []
  }
 ],
 "metadata": {
  "kernelspec": {
   "display_name": "Python 3",
   "language": "python",
   "name": "python3"
  },
  "language_info": {
   "codemirror_mode": {
    "name": "ipython",
    "version": 3
   },
   "file_extension": ".py",
   "mimetype": "text/x-python",
   "name": "python",
   "nbconvert_exporter": "python",
   "pygments_lexer": "ipython3",
   "version": "3.8.3"
  }
 },
 "nbformat": 4,
 "nbformat_minor": 4
}
