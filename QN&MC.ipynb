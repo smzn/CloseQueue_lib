{
 "cells": [
  {
   "cell_type": "markdown",
   "metadata": {},
   "source": [
    "P317 Example 8.1"
   ]
  },
  {
   "cell_type": "code",
   "execution_count": 1,
   "metadata": {},
   "outputs": [],
   "source": [
    "import numpy as np"
   ]
  },
  {
   "cell_type": "code",
   "execution_count": 2,
   "metadata": {},
   "outputs": [],
   "source": [
    "N = 3\n",
    "K = 3\n",
    "mu = np.array([0.8, 0.6, 0.4])\n",
    "m = np.array([2, 3, 1])\n",
    "alpha = np.array([1.0, 0.667, 0.2])\n",
    "rho = alpha / mu"
   ]
  },
  {
   "cell_type": "code",
   "execution_count": 3,
   "metadata": {},
   "outputs": [],
   "source": [
    "def fact(n):\n",
    "    if n <= 1:\n",
    "        return 1\n",
    "    return n * fact(n-1)"
   ]
  },
  {
   "cell_type": "code",
   "execution_count": 4,
   "metadata": {},
   "outputs": [],
   "source": [
    "def getBeta(n, k): #P289 式 7.62\n",
    "    if m[n] == 1:\n",
    "        return 1\n",
    "    elif k <= m[n]:\n",
    "        return fact(k)\n",
    "    elif k >= m[n]:\n",
    "        return fact(m[n]) * m[n]**(k-m[n])"
   ]
  },
  {
   "cell_type": "code",
   "execution_count": 5,
   "metadata": {},
   "outputs": [],
   "source": [
    "def getF(n, k):#n:ノード番号は1引いた数字\n",
    "    f = (alpha[n]/mu[n])**k\n",
    "    f /= getBeta(n, k)\n",
    "    return f"
   ]
  },
  {
   "cell_type": "code",
   "execution_count": 6,
   "metadata": {},
   "outputs": [
    {
     "name": "stdout",
     "output_type": "stream",
     "text": [
      "n = 0, k = 0, F = 1.0\n",
      "n = 0, k = 1, F = 1.25\n",
      "n = 0, k = 2, F = 0.78125\n",
      "n = 0, k = 3, F = 0.48828125\n",
      "n = 1, k = 0, F = 1.0\n",
      "n = 1, k = 1, F = 1.1116666666666668\n",
      "n = 1, k = 2, F = 0.617901388888889\n",
      "n = 1, k = 3, F = 0.22896679243827167\n",
      "n = 2, k = 0, F = 1.0\n",
      "n = 2, k = 1, F = 0.5\n",
      "n = 2, k = 2, F = 0.25\n",
      "n = 2, k = 3, F = 0.125\n"
     ]
    }
   ],
   "source": [
    "for n in range(N):\n",
    "    for k in range(K+1): \n",
    "        print('n = {0}, k = {1}, F = {2}'.format(n, k, getF(n, k)))"
   ]
  },
  {
   "cell_type": "code",
   "execution_count": 7,
   "metadata": {},
   "outputs": [],
   "source": [
    "def calcConvolution(n, k, rho): #メモ化利用なし\n",
    "    #rho = alpha / mu\n",
    "    if k == 0: #Gj(0) = 1 (j = 1,...,N)\n",
    "        g = 1\n",
    "    elif n == 0:#G(0,k) = f0(k)\n",
    "        g = np.power(rho[n], k)\n",
    "    else : \n",
    "        g = calcConvolution(n-1, k,rho) + rho[n] * calcConvolution(n, k-1,rho)\n",
    "    return g"
   ]
  },
  {
   "cell_type": "code",
   "execution_count": 8,
   "metadata": {},
   "outputs": [
    {
     "name": "stdout",
     "output_type": "stream",
     "text": [
      "9.418018115740743\n"
     ]
    }
   ],
   "source": [
    "g = calcConvolution(N-1, K, rho) #ノード番号は1小さくしている\n",
    "print(g)\n",
    "#窓口数を考慮できないので値が合わない"
   ]
  },
  {
   "cell_type": "code",
   "execution_count": 9,
   "metadata": {},
   "outputs": [],
   "source": [
    "def getConvolution(n, k, rho): #QN&MC P314 式(8.4),(8.5),(8.6)利用\n",
    "    if k == 0:\n",
    "        g = 1\n",
    "    elif n == 0:\n",
    "        g = getF(n, k)\n",
    "    else :\n",
    "        g = 0\n",
    "        for i in range(k + 1):\n",
    "            g += getF(n, i) * getConvolution(n-1, k-i, rho)\n",
    "    #print('n = {0}, k = {1}, G(n,k) = {2}'.format(n, k, g)) #QN&MC P314 Table8.1\n",
    "    return g"
   ]
  },
  {
   "cell_type": "code",
   "execution_count": 10,
   "metadata": {},
   "outputs": [
    {
     "name": "stdout",
     "output_type": "stream",
     "text": [
      "4.467898389660494\n"
     ]
    }
   ],
   "source": [
    "g = getConvolution(N-1, K, rho) #ノード番号は1小さくしている\n",
    "print(g)"
   ]
  },
  {
   "cell_type": "code",
   "execution_count": 11,
   "metadata": {},
   "outputs": [],
   "source": [
    "def getMarginalProbabilities(n, k): #QN&MC P316 式(8.13)\n",
    "    pi = rho[n]**k / getConvolution(N-1, K, rho) * (getConvolution(N-1, K-k, rho) - rho[n] * getConvolution(N-1, K-k-1, rho))\n",
    "    return pi"
   ]
  },
  {
   "cell_type": "code",
   "execution_count": 12,
   "metadata": {},
   "outputs": [
    {
     "name": "stdout",
     "output_type": "stream",
     "text": [
      "pi(2,0) = 0.5277905082487573\n",
      "pi(2,1) = 0.31208573685066865\n",
      "pi(2,2) = 0.13214639527904107\n",
      "pi(2,3) = 0.02797735962153304\n"
     ]
    }
   ],
   "source": [
    "for k in range(K+1): #n = Nのとき\n",
    "    marginal = getMarginalProbabilities(N-1, k) #ノード番号は1小さくしている\n",
    "    print('pi({0},{1}) = {2}'.format(n, k, marginal))"
   ]
  },
  {
   "cell_type": "code",
   "execution_count": 13,
   "metadata": {},
   "outputs": [],
   "source": [
    "def getGi(n, k, rho): #QN&MC P316 式(8.11), (8.12)\n",
    "    if k == 0: #式(8.12)\n",
    "        gi = 1\n",
    "    else:\n",
    "        gi = getConvolution(N-1, k, rho)\n",
    "        for i in range(1, k + 1):\n",
    "            gi -= getF(n, i) * getGi(n, k-i, rho)\n",
    "    return gi"
   ]
  },
  {
   "cell_type": "code",
   "execution_count": 14,
   "metadata": {},
   "outputs": [
    {
     "name": "stdout",
     "output_type": "stream",
     "text": [
      "G(0,0) = 1\n",
      "G(0,1) = 1.6116666666666668\n",
      "G(0,2) = 1.423734722222222\n",
      "G(0,3) = 0.9408341535493832\n",
      "G(1,0) = 1\n",
      "G(1,1) = 1.75\n",
      "G(1,2) = 1.6562499999999996\n",
      "G(1,3) = 1.3164062500000002\n"
     ]
    }
   ],
   "source": [
    "for n in range(N-1): #QN&MC P319確認\n",
    "    for k in range(K+1):\n",
    "        gi = getGi(n, k, rho)\n",
    "        print('G({0},{1}) = {2}'.format(n, k, gi))"
   ]
  },
  {
   "cell_type": "code",
   "execution_count": 15,
   "metadata": {},
   "outputs": [],
   "source": [
    "def getMarginal(): #QN&MC P315 式(8.7)\n",
    "    mpi = np.zeros((N, K+1)) #周辺分布\n",
    "    l = np.zeros(N) #平均系内人数\n",
    "    for n in range(N):#周辺分布計算\n",
    "        for k in range(K+1):\n",
    "            mpi[n,k] = getF(n, k) * getGi(n, K - k, rho) / g\n",
    "    for n in range(N):\n",
    "        for k in range(K+1):\n",
    "            l[n] += k * mpi[n,k]\n",
    "    return mpi, l"
   ]
  },
  {
   "cell_type": "code",
   "execution_count": 16,
   "metadata": {},
   "outputs": [
    {
     "name": "stdout",
     "output_type": "stream",
     "text": [
      "[[0.21057644 0.39832338 0.28181361 0.10928656]\n",
      " [0.29463657 0.41209485 0.24202149 0.05124709]\n",
      " [0.52779051 0.31208574 0.1321464  0.02797736]]\n",
      "[1.28981029 1.0498791  0.66031061]\n"
     ]
    }
   ],
   "source": [
    "mpi, l = getMarginal()\n",
    "print(mpi)\n",
    "print(l)"
   ]
  },
  {
   "cell_type": "markdown",
   "metadata": {},
   "source": [
    "P323 Example 8.2"
   ]
  },
  {
   "cell_type": "code",
   "execution_count": 17,
   "metadata": {},
   "outputs": [],
   "source": [
    "N = 4\n",
    "R = 2\n",
    "K1 = 1\n",
    "K2 = 2\n",
    "mu = np.array([[1/1, 1/2],[1/4, 1/5],[1/8, 1/10],[1/12, 1/16]])\n",
    "alpha = np.array([[1, 1],[0.4, 0.4],[0.4, 0.3],[0.2, 0.3]])\n",
    "#Node1:Type2プロセッサシェアリング（Processor Sharing: PS）, Node2:Type4後着順割込継続型（LCFS-PR), Node3:Type4後着順割込継続型（LCFS-PR), Node4:Type3無限サーバ（Infinite Server: IS）, その他Type1(FCFS) "
   ]
  },
  {
   "cell_type": "code",
   "execution_count": 45,
   "metadata": {},
   "outputs": [],
   "source": [
    "# P323 Table 8.2 Fi(Si)の計算, P303式(7.82)\n",
    "#Siはノードiにおけるクラス別人数分布:(ノードiのクラス0の人数, ノードiのクラス1の人数)\n",
    "#Siは(0,0),(1,0),(0,1),(1,1),(0,2),(1,2) K1=1,K2=2なので\n",
    "def FS(n, alpha, mu, Si, type_number):#sは状態分布, type_number =1(FCFS),2(PS),3(IS),4(LCFS-PR)\n",
    "    f = 1\n",
    "    if type_number == 1:\n",
    "        print('FCFS')\n",
    "    else:\n",
    "        for r in range(R):#type-3はこのループで終わり\n",
    "            f *= 1 / fact(Si[r]) * (alpha[n,r] / mu[n,r])**Si[r]\n",
    "        if type_number == 2 or type_number == 4:#type-2,4は累乗をかける    \n",
    "            f *= fact(sum(Si))\n",
    "    return f"
   ]
  },
  {
   "cell_type": "code",
   "execution_count": 51,
   "metadata": {},
   "outputs": [
    {
     "name": "stdout",
     "output_type": "stream",
     "text": [
      "F0([0,0]) = 1.0\n",
      "F0([0,1]) = 2.0\n",
      "F0([0,2]) = 4.0\n",
      "F0([1,0]) = 1.0\n",
      "F0([1,1]) = 4.0\n",
      "F0([1,2]) = 12.0\n",
      "F1([0,0]) = 1.0\n",
      "F1([0,1]) = 2.0\n",
      "F1([0,2]) = 4.0\n",
      "F1([1,0]) = 1.6\n",
      "F1([1,1]) = 6.4\n",
      "F1([1,2]) = 19.200000000000003\n",
      "F2([0,0]) = 1.0\n",
      "F2([0,1]) = 2.9999999999999996\n",
      "F2([0,2]) = 8.999999999999998\n",
      "F2([1,0]) = 3.2\n",
      "F2([1,1]) = 19.2\n",
      "F2([1,2]) = 86.39999999999999\n",
      "F3([0,0]) = 1.0\n",
      "F3([0,1]) = 4.8\n",
      "F3([0,2]) = 11.52\n",
      "F3([1,0]) = 2.4000000000000004\n",
      "F3([1,1]) = 11.520000000000001\n",
      "F3([1,2]) = 27.648000000000003\n"
     ]
    }
   ],
   "source": [
    "type_number = [2, 4, 4, 3]\n",
    "for n in range(N):\n",
    "    for k1 in range(K1+1): #kのリストを作成\n",
    "        for k2 in range(K2+1):\n",
    "            f = FS(n, alpha, mu, [k1, k2], type_number[n])\n",
    "            print('F{0}([{1},{2}]) = {3}'.format(n, k1, k2, f))"
   ]
  },
  {
   "cell_type": "code",
   "execution_count": null,
   "metadata": {},
   "outputs": [],
   "source": []
  }
 ],
 "metadata": {
  "kernelspec": {
   "display_name": "Python 3",
   "language": "python",
   "name": "python3"
  },
  "language_info": {
   "codemirror_mode": {
    "name": "ipython",
    "version": 3
   },
   "file_extension": ".py",
   "mimetype": "text/x-python",
   "name": "python",
   "nbconvert_exporter": "python",
   "pygments_lexer": "ipython3",
   "version": "3.8.3"
  }
 },
 "nbformat": 4,
 "nbformat_minor": 4
}
