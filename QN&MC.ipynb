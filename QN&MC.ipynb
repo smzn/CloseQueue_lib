{
 "cells": [
  {
   "cell_type": "markdown",
   "metadata": {},
   "source": [
    "P317 Example 8.1"
   ]
  },
  {
   "cell_type": "code",
   "execution_count": 1,
   "metadata": {},
   "outputs": [],
   "source": [
    "import numpy as np"
   ]
  },
  {
   "cell_type": "code",
   "execution_count": 2,
   "metadata": {},
   "outputs": [],
   "source": [
    "N = 3\n",
    "K = 3\n",
    "mu = np.array([0.8, 0.6, 0.4])\n",
    "m = np.array([2, 3, 1])\n",
    "alpha = np.array([1.0, 0.667, 0.2])\n",
    "rho = alpha / mu"
   ]
  },
  {
   "cell_type": "code",
   "execution_count": 3,
   "metadata": {},
   "outputs": [],
   "source": [
    "def fact(n):\n",
    "    if n <= 1:\n",
    "        return 1\n",
    "    return n * fact(n-1)"
   ]
  },
  {
   "cell_type": "code",
   "execution_count": 4,
   "metadata": {},
   "outputs": [],
   "source": [
    "def getBeta(n, k): #P289 式 7.62\n",
    "    if m[n] == 1:\n",
    "        return 1\n",
    "    elif k <= m[n]:\n",
    "        return fact(k)\n",
    "    elif k >= m[n]:\n",
    "        return fact(m[n]) * m[n]**(k-m[n])"
   ]
  },
  {
   "cell_type": "code",
   "execution_count": 5,
   "metadata": {},
   "outputs": [],
   "source": [
    "def getF(n, k):#n:ノード番号は1引いた数字\n",
    "    f = (alpha[n]/mu[n])**k\n",
    "    f /= getBeta(n, k)\n",
    "    return f"
   ]
  },
  {
   "cell_type": "code",
   "execution_count": 6,
   "metadata": {},
   "outputs": [
    {
     "name": "stdout",
     "output_type": "stream",
     "text": [
      "n = 0, k = 0, F = 1.0\n",
      "n = 0, k = 1, F = 1.25\n",
      "n = 0, k = 2, F = 0.78125\n",
      "n = 0, k = 3, F = 0.48828125\n",
      "n = 1, k = 0, F = 1.0\n",
      "n = 1, k = 1, F = 1.1116666666666668\n",
      "n = 1, k = 2, F = 0.617901388888889\n",
      "n = 1, k = 3, F = 0.22896679243827167\n",
      "n = 2, k = 0, F = 1.0\n",
      "n = 2, k = 1, F = 0.5\n",
      "n = 2, k = 2, F = 0.25\n",
      "n = 2, k = 3, F = 0.125\n"
     ]
    }
   ],
   "source": [
    "for n in range(N):\n",
    "    for k in range(K+1): \n",
    "        print('n = {0}, k = {1}, F = {2}'.format(n, k, getF(n, k)))"
   ]
  },
  {
   "cell_type": "code",
   "execution_count": 7,
   "metadata": {},
   "outputs": [],
   "source": [
    "def calcConvolution(n, k, rho): #メモ化利用なし\n",
    "    #rho = alpha / mu\n",
    "    if k == 0: #Gj(0) = 1 (j = 1,...,N)\n",
    "        g = 1\n",
    "    elif n == 0:#G(0,k) = f0(k)\n",
    "        g = np.power(rho[n], k)\n",
    "    else : \n",
    "        g = calcConvolution(n-1, k,rho) + rho[n] * calcConvolution(n, k-1,rho)\n",
    "    return g"
   ]
  },
  {
   "cell_type": "code",
   "execution_count": 8,
   "metadata": {},
   "outputs": [
    {
     "name": "stdout",
     "output_type": "stream",
     "text": [
      "9.418018115740743\n"
     ]
    }
   ],
   "source": [
    "g = calcConvolution(N-1, K, rho) #ノード番号は1小さくしている\n",
    "print(g)\n",
    "#窓口数を考慮できないので値が合わない"
   ]
  },
  {
   "cell_type": "code",
   "execution_count": 9,
   "metadata": {},
   "outputs": [],
   "source": [
    "def getConvolution(n, k, rho): #QN&MC P314 式(8.4),(8.5),(8.6)利用\n",
    "    if k == 0:\n",
    "        g = 1\n",
    "    elif n == 0:\n",
    "        g = getF(n, k)\n",
    "    else :\n",
    "        g = 0\n",
    "        for i in range(k + 1):\n",
    "            g += getF(n, i) * getConvolution(n-1, k-i, rho)\n",
    "    #print('n = {0}, k = {1}, G(n,k) = {2}'.format(n, k, g)) #QN&MC P314 Table8.1\n",
    "    return g"
   ]
  },
  {
   "cell_type": "code",
   "execution_count": 10,
   "metadata": {},
   "outputs": [
    {
     "name": "stdout",
     "output_type": "stream",
     "text": [
      "4.467898389660494\n"
     ]
    }
   ],
   "source": [
    "g = getConvolution(N-1, K, rho) #ノード番号は1小さくしている\n",
    "print(g)"
   ]
  },
  {
   "cell_type": "code",
   "execution_count": 11,
   "metadata": {},
   "outputs": [],
   "source": [
    "def getMarginalProbabilities(n, k): #QN&MC P316 式(8.13)\n",
    "    pi = rho[n]**k / getConvolution(N-1, K, rho) * (getConvolution(N-1, K-k, rho) - rho[n] * getConvolution(N-1, K-k-1, rho))\n",
    "    return pi"
   ]
  },
  {
   "cell_type": "code",
   "execution_count": 12,
   "metadata": {},
   "outputs": [
    {
     "name": "stdout",
     "output_type": "stream",
     "text": [
      "pi(2,0) = 0.5277905082487573\n",
      "pi(2,1) = 0.31208573685066865\n",
      "pi(2,2) = 0.13214639527904107\n",
      "pi(2,3) = 0.02797735962153304\n"
     ]
    }
   ],
   "source": [
    "for k in range(K+1): #n = Nのとき\n",
    "    marginal = getMarginalProbabilities(N-1, k) #ノード番号は1小さくしている\n",
    "    print('pi({0},{1}) = {2}'.format(n, k, marginal))"
   ]
  },
  {
   "cell_type": "code",
   "execution_count": 13,
   "metadata": {},
   "outputs": [],
   "source": [
    "def getGi(n, k, rho): #QN&MC P316 式(8.11), (8.12)\n",
    "    if k == 0: #式(8.12)\n",
    "        gi = 1\n",
    "    else:\n",
    "        gi = getConvolution(N-1, k, rho)\n",
    "        for i in range(1, k + 1):\n",
    "            gi -= getF(n, i) * getGi(n, k-i, rho)\n",
    "    return gi"
   ]
  },
  {
   "cell_type": "code",
   "execution_count": 14,
   "metadata": {},
   "outputs": [
    {
     "name": "stdout",
     "output_type": "stream",
     "text": [
      "G(0,0) = 1\n",
      "G(0,1) = 1.6116666666666668\n",
      "G(0,2) = 1.423734722222222\n",
      "G(0,3) = 0.9408341535493832\n",
      "G(1,0) = 1\n",
      "G(1,1) = 1.75\n",
      "G(1,2) = 1.6562499999999996\n",
      "G(1,3) = 1.3164062500000002\n"
     ]
    }
   ],
   "source": [
    "for n in range(N-1): #QN&MC P319確認\n",
    "    for k in range(K+1):\n",
    "        gi = getGi(n, k, rho)\n",
    "        print('G({0},{1}) = {2}'.format(n, k, gi))"
   ]
  },
  {
   "cell_type": "code",
   "execution_count": 15,
   "metadata": {},
   "outputs": [],
   "source": [
    "def getMarginal(): #QN&MC P315 式(8.7)\n",
    "    mpi = np.zeros((N, K+1)) #周辺分布\n",
    "    l = np.zeros(N) #平均系内人数\n",
    "    for n in range(N):#周辺分布計算\n",
    "        for k in range(K+1):\n",
    "            mpi[n,k] = getF(n, k) * getGi(n, K - k, rho) / g\n",
    "    for n in range(N):\n",
    "        for k in range(K+1):\n",
    "            l[n] += k * mpi[n,k]\n",
    "    return mpi, l"
   ]
  },
  {
   "cell_type": "code",
   "execution_count": 16,
   "metadata": {},
   "outputs": [
    {
     "name": "stdout",
     "output_type": "stream",
     "text": [
      "[[0.21057644 0.39832338 0.28181361 0.10928656]\n",
      " [0.29463657 0.41209485 0.24202149 0.05124709]\n",
      " [0.52779051 0.31208574 0.1321464  0.02797736]]\n",
      "[1.28981029 1.0498791  0.66031061]\n"
     ]
    }
   ],
   "source": [
    "mpi, l = getMarginal()\n",
    "print(mpi)\n",
    "print(l)"
   ]
  },
  {
   "cell_type": "markdown",
   "metadata": {},
   "source": [
    "P323 Example 8.2"
   ]
  },
  {
   "cell_type": "code",
   "execution_count": 17,
   "metadata": {},
   "outputs": [],
   "source": [
    "N = 4\n",
    "R = 2\n",
    "K1 = 1\n",
    "K2 = 2\n",
    "K = [K1, K2]\n",
    "mu = np.array([[1/1, 1/2],[1/4, 1/5],[1/8, 1/10],[1/12, 1/16]])\n",
    "alpha = np.array([[1, 1],[0.4, 0.4],[0.4, 0.3],[0.2, 0.3]])\n",
    "#Node1:Type2プロセッサシェアリング（Processor Sharing: PS）, Node2:Type4後着順割込継続型（LCFS-PR), Node3:Type4後着順割込継続型（LCFS-PR), Node4:Type3無限サーバ（Infinite Server: IS）, その他Type1(FCFS) "
   ]
  },
  {
   "cell_type": "code",
   "execution_count": 18,
   "metadata": {},
   "outputs": [],
   "source": [
    "def getCombiList(combi, K, R, idx): #クラスごとの人数分布算出 K = [K1, K2], idxはどのクラスかを指定\n",
    "    if len(combi) == R:\n",
    "        #print(combi)\n",
    "        exec('combi_list.append({})'.format(combi))\n",
    "        return \n",
    "    for v in range(K[idx]+1):\n",
    "        combi.append(v)\n",
    "        getCombiList(combi, K, R, idx+1)\n",
    "        combi.pop() "
   ]
  },
  {
   "cell_type": "code",
   "execution_count": 19,
   "metadata": {},
   "outputs": [],
   "source": [
    "def getCombiList2(combi, K, R, idx, Klist):\n",
    "    if len(combi) == R:\n",
    "        #print(combi)\n",
    "        Klist.append(combi.copy())\n",
    "        #print(Klist)\n",
    "        return Klist\n",
    "    for v in range(K[idx]+1):\n",
    "        combi.append(v)\n",
    "        Klist = getCombiList2(combi, K, R, idx+1, Klist)\n",
    "        combi.pop()\n",
    "    return Klist"
   ]
  },
  {
   "cell_type": "code",
   "execution_count": 20,
   "metadata": {},
   "outputs": [
    {
     "data": {
      "text/plain": [
       "[[0, 0], [0, 1], [0, 2], [1, 0], [1, 1], [1, 2]]"
      ]
     },
     "execution_count": 20,
     "metadata": {},
     "output_type": "execute_result"
    }
   ],
   "source": [
    "combi_list = []\n",
    "getCombiList([], K, R, 0)\n",
    "combi_list"
   ]
  },
  {
   "cell_type": "code",
   "execution_count": 21,
   "metadata": {},
   "outputs": [],
   "source": [
    "# P323 Table 8.2 Fi(Si)の計算, P303式(7.82)\n",
    "#Siはノードiにおけるクラス別人数分布:(ノードiのクラス0の人数, ノードiのクラス1の人数)\n",
    "#Siは(0,0),(1,0),(0,1),(1,1),(0,2),(1,2) K1=1,K2=2なので\n",
    "def FS(n, alpha, mu, Si, type_number):#sは状態分布, type_number =1(FCFS),2(PS),3(IS),4(LCFS-PR)\n",
    "    f = 1\n",
    "    if type_number == 1:\n",
    "        print('FCFS') #ここはまだ未実装\n",
    "    else:\n",
    "        for r in range(R):#type-3はこのループで終わり\n",
    "            f *= 1 / fact(Si[r]) * (alpha[n,r] / mu[n,r])**Si[r]\n",
    "        if type_number == 2 or type_number == 4:#type-2,4は累乗をかける    \n",
    "            f *= fact(sum(Si))\n",
    "    return f"
   ]
  },
  {
   "cell_type": "code",
   "execution_count": 22,
   "metadata": {},
   "outputs": [],
   "source": [
    "#ループでの人数分布作成は使わない\n",
    "#type_number = [2, 4, 4, 3]\n",
    "#type_list = [2, 4, 4, 3]\n",
    "#for n in range(N):\n",
    "#    for k1 in range(K1+1): #kのリストを作成\n",
    "#        for k2 in range(K2+1):\n",
    "#            f = FS(n, alpha, mu, [k1, k2], type_number[n])\n",
    "#            print('F{0}([{1},{2}]) = {3}'.format(n, k1, k2, f))"
   ]
  },
  {
   "cell_type": "code",
   "execution_count": 23,
   "metadata": {},
   "outputs": [
    {
     "name": "stdout",
     "output_type": "stream",
     "text": [
      "F0([[0, 0]]) = 1.0\n",
      "F0([[0, 1]]) = 2.0\n",
      "F0([[0, 2]]) = 4.0\n",
      "F0([[1, 0]]) = 1.0\n",
      "F0([[1, 1]]) = 4.0\n",
      "F0([[1, 2]]) = 12.0\n",
      "F1([[0, 0]]) = 1.0\n",
      "F1([[0, 1]]) = 2.0\n",
      "F1([[0, 2]]) = 4.0\n",
      "F1([[1, 0]]) = 1.6\n",
      "F1([[1, 1]]) = 6.4\n",
      "F1([[1, 2]]) = 19.200000000000003\n",
      "F2([[0, 0]]) = 1.0\n",
      "F2([[0, 1]]) = 2.9999999999999996\n",
      "F2([[0, 2]]) = 8.999999999999998\n",
      "F2([[1, 0]]) = 3.2\n",
      "F2([[1, 1]]) = 19.2\n",
      "F2([[1, 2]]) = 86.39999999999999\n",
      "F3([[0, 0]]) = 1.0\n",
      "F3([[0, 1]]) = 4.8\n",
      "F3([[0, 2]]) = 11.52\n",
      "F3([[1, 0]]) = 2.4000000000000004\n",
      "F3([[1, 1]]) = 11.520000000000001\n",
      "F3([[1, 2]]) = 27.648000000000003\n"
     ]
    }
   ],
   "source": [
    "#ループではなく、getCombiListを利用\n",
    "type_number = [2, 4, 4, 3]\n",
    "type_list = [2, 4, 4, 3]\n",
    "combi_list = []\n",
    "combi_list = getCombiList2([], K, R, 0, combi_list)\n",
    "for n in range(N):\n",
    "    for k in combi_list:\n",
    "        f = FS(n, alpha, mu, k, type_number[n])\n",
    "        print('F{0}([{1}]) = {2}'.format(n, k, f))"
   ]
  },
  {
   "cell_type": "code",
   "execution_count": 24,
   "metadata": {},
   "outputs": [],
   "source": [
    "#ループでの人数分布作成は使わない\n",
    "#def getConvolution(n, alpha, mu, Si, type_num):#P321式(8.21)\n",
    "#    g = 0\n",
    "#    type_list = [2, 4, 4, 3] #type_listに名前変更(type_numberはFSの時は番号が変わらないのでいいが、再帰の時は番号が変わるのでtype_listと変えた。FSもtype_listとして処理した方が混乱しなくていいかも)\n",
    "#    if n == 0:\n",
    "#        g = FS(n, alpha, mu, Si, type_num)#\n",
    "#    elif n >= 1:\n",
    "#        for i in range(Si[0]+1):#課題：今回は2クラスなので２重ループでよかった。多クラスの対応を考える\n",
    "#            for j in range(Si[1]+1):#解決法：重複組合せをリストで返す関数を呼び出し、そのリストをループで回せば良い\n",
    "#                g += getConvolution(n-1, alpha, mu, [i,j], type_list[n-1]) * FS(n, alpha, mu, [Si[0]-i, Si[1]-j], type_num) #ここも多クラスの時の課題\n",
    "#    return g    "
   ]
  },
  {
   "cell_type": "code",
   "execution_count": 25,
   "metadata": {},
   "outputs": [],
   "source": [
    "def getConvolution(n, alpha, mu, Si, type_num):#P321式(8.21)\n",
    "    g = 0\n",
    "    type_list = [2, 4, 4, 3] #type_listに名前変更(type_numberはFSの時は番号が変わらないのでいいが、再帰の時は番号が変わるのでtype_listと変えた。FSもtype_listとして処理した方が混乱しなくていいかも)\n",
    "    combi_list = []\n",
    "    combi_list = getCombiList2([], Si, R, 0, combi_list)\n",
    "    if n == 0:\n",
    "        g = FS(n, alpha, mu, Si, type_num)#\n",
    "    elif n >= 1:\n",
    "        for k in combi_list:\n",
    "            g += getConvolution(n-1, alpha, mu, k, type_list[n-1]) * FS(n, alpha, mu, np.array(Si)-np.array(k), type_num) #ここも多クラスの時の課題\n",
    "    return g    "
   ]
  },
  {
   "cell_type": "code",
   "execution_count": 26,
   "metadata": {},
   "outputs": [],
   "source": [
    "#GK = 0\n",
    "#for n in range(N): #P324 Table 8.3\n",
    "#    for k1 in range(K1+1):\n",
    "#        for k2 in range(K2+1):\n",
    "#            g = getConvolution(n, alpha, mu, [k1,k2], type_list[n])\n",
    "#            print('G{0}({1},{2}) = {3}'.format(n,k1,k2,g))\n",
    "#            if n == N-1 and k1 == K1 and k2 == K2: #定常分布で使うためGKを確保\n",
    "#                GK = g\n",
    "#print(GK)"
   ]
  },
  {
   "cell_type": "code",
   "execution_count": 27,
   "metadata": {},
   "outputs": [
    {
     "name": "stdout",
     "output_type": "stream",
     "text": [
      "G0([0, 0]) = 1.0\n",
      "G0([0, 1]) = 2.0\n",
      "G0([0, 2]) = 4.0\n",
      "G0([1, 0]) = 1.0\n",
      "G0([1, 1]) = 4.0\n",
      "G0([1, 2]) = 12.0\n",
      "G1([0, 0]) = 1.0\n",
      "G1([0, 1]) = 4.0\n",
      "G1([0, 2]) = 12.0\n",
      "G1([1, 0]) = 2.6\n",
      "G1([1, 1]) = 15.600000000000001\n",
      "G1([1, 2]) = 62.4\n",
      "G2([0, 0]) = 1.0\n",
      "G2([0, 1]) = 7.0\n",
      "G2([0, 2]) = 33.0\n",
      "G2([1, 0]) = 5.800000000000001\n",
      "G2([1, 1]) = 55.4\n",
      "G2([1, 2]) = 334.2\n",
      "G3([0, 0]) = 1.0\n",
      "G3([0, 1]) = 11.8\n",
      "G3([0, 2]) = 78.12\n",
      "G3([1, 0]) = 8.200000000000001\n",
      "G3([1, 1]) = 111.56\n",
      "G3([1, 2]) = 854.424\n",
      "854.424\n"
     ]
    }
   ],
   "source": [
    "GK = 0\n",
    "combi_list = []\n",
    "combi_list = getCombiList2([], K, R, 0, combi_list)\n",
    "for n in range(N): #P324 Table 8.3\n",
    "    for i, k in enumerate(combi_list):\n",
    "        g = getConvolution(n, alpha, mu, k, type_list[n])\n",
    "        print('G{0}({1}) = {2}'.format(n,k,g))\n",
    "        #if n == N-1 and k[0] == K1 and k[1] == K2: #定常分布で使うためGKを確保\n",
    "        if n == N-1 and i == len(combi_list)-1: #combi_listの最後の要素のとき\n",
    "            GK = g\n",
    "print(GK)"
   ]
  },
  {
   "cell_type": "code",
   "execution_count": 28,
   "metadata": {},
   "outputs": [],
   "source": [
    "#def getGi(n, Si, alpha, mu): #P322 式(8.25,26,27) 引数nはG_N^(i)のiに対応する\n",
    "#    if sum(Si) == 0: #式(8.27)\n",
    "#        gi = 1\n",
    "#    else:\n",
    "#        gi = getConvolution(N-1, alpha, mu, Si, type_list[N-1])\n",
    "#        for k1 in range(Si[0]+1): #Siになるまでの全ての組み合わせ(課題：多クラスにも対応できるようにする)\n",
    "#            for k2 in range(Si[1]+1):\n",
    "#                if(k1 + k2 == 0):#j=0の場合は除く(8.26) \n",
    "#                    continue\n",
    "#                else:\n",
    "#                    gi -= FS(n, alpha, mu, [k1, k2], type_list[n]) * getGi(n, [Si[0]-k1, Si[1]-k2], alpha, mu)\n",
    "#    return gi"
   ]
  },
  {
   "cell_type": "code",
   "execution_count": 29,
   "metadata": {},
   "outputs": [],
   "source": [
    "def getGi(n, Si, alpha, mu): #P322 式(8.25,26,27) 引数nはG_N^(i)のiに対応する\n",
    "    if sum(Si) == 0: #式(8.27)\n",
    "        gi = 1\n",
    "    else:\n",
    "        gi = getConvolution(N-1, alpha, mu, Si, type_list[N-1])\n",
    "        combi_list = []\n",
    "        combi_list = getCombiList2([], Si, R, 0, combi_list)\n",
    "        for k in combi_list:\n",
    "            if(sum(k) == 0):#j=0の場合は除く(8.26) \n",
    "                continue\n",
    "            else:\n",
    "                gi -= FS(n, alpha, mu, k, type_list[n]) * getGi(n, np.array(Si)-np.array(k), alpha, mu)\n",
    "    return gi"
   ]
  },
  {
   "cell_type": "code",
   "execution_count": 30,
   "metadata": {},
   "outputs": [],
   "source": [
    "#for n in range(N):\n",
    "#    for k1 in range(K1+1):\n",
    "#        for k2 in range(K2+1):\n",
    "#            gi = getGi(n, [k1, k2], alpha, mu)\n",
    "#            print('GN({0})({1},{2}) = {3}'.format(n, k1, k2, gi))\n",
    "#最終ノードを除いた場合GN(3)(0,0) = 1 ~は数値OKだが、他のノードを除いた場合は確認できない"
   ]
  },
  {
   "cell_type": "code",
   "execution_count": 31,
   "metadata": {},
   "outputs": [
    {
     "name": "stdout",
     "output_type": "stream",
     "text": [
      "GN(0)([0, 0]) = 1\n",
      "GN(0)([0, 1]) = 9.8\n",
      "GN(0)([0, 2]) = 54.52\n",
      "GN(0)([1, 0]) = 7.200000000000001\n",
      "GN(0)([1, 1]) = 83.36\n",
      "GN(0)([1, 2]) = 553.184\n",
      "GN(1)([0, 0]) = 1\n",
      "GN(1)([0, 1]) = 9.8\n",
      "GN(1)([0, 2]) = 54.52\n",
      "GN(1)([1, 0]) = 6.600000000000001\n",
      "GN(1)([1, 1]) = 76.27999999999999\n",
      "GN(1)([1, 2]) = 506.31200000000007\n",
      "GN(2)([0, 0]) = 1\n",
      "GN(2)([0, 1]) = 8.8\n",
      "GN(2)([0, 2]) = 42.720000000000006\n",
      "GN(2)([1, 0]) = 5.000000000000001\n",
      "GN(2)([1, 1]) = 49.2\n",
      "GN(2)([1, 2]) = 269.7599999999999\n",
      "GN(3)([0, 0]) = 1\n",
      "GN(3)([0, 1]) = 7.000000000000001\n",
      "GN(3)([0, 2]) = 33.0\n",
      "GN(3)([1, 0]) = 5.800000000000001\n",
      "GN(3)([1, 1]) = 55.399999999999984\n",
      "GN(3)([1, 2]) = 334.20000000000005\n"
     ]
    }
   ],
   "source": [
    "combi_list = []\n",
    "combi_list = getCombiList2([], K, R, 0, combi_list)\n",
    "for n in range(N):\n",
    "    for k in combi_list:\n",
    "        gi = getGi(n, k, alpha, mu)\n",
    "        print('GN({0})({1}) = {2}'.format(n, k, gi))\n",
    "#最終ノードを除いた場合GN(3)(0,0) = 1 ~は数値OKだが、他のノードを除いた場合は確認できない"
   ]
  },
  {
   "cell_type": "code",
   "execution_count": 32,
   "metadata": {},
   "outputs": [],
   "source": [
    "#定常分布を求める\n",
    "#G(K)をgetConvolutionでN=n-1、Si=[K1,K2]となった時がGKなので最初にそれを取得してから(8.23)を計算する\n",
    "#def getMarginalProbability(n, Si, alpha, mu):\n",
    "#    mp = FS(n, alpha, mu, Si, type_list[n]) * getGi(n, [K1-Si[0], K2-Si[1]], alpha, mu) / GK\n",
    "#    return mp"
   ]
  },
  {
   "cell_type": "code",
   "execution_count": 33,
   "metadata": {},
   "outputs": [],
   "source": [
    "#定常分布を求める\n",
    "#G(K)をgetConvolutionでN=n-1、Si=[K1,K2]となった時がGKなので最初にそれを取得してから(8.23)を計算する\n",
    "def getMarginalProbability(n, Si, alpha, mu):\n",
    "    mp = FS(n, alpha, mu, Si, type_list[n]) * getGi(n, np.array(K)-np.array(Si), alpha, mu) / GK\n",
    "    return mp"
   ]
  },
  {
   "cell_type": "code",
   "execution_count": 34,
   "metadata": {},
   "outputs": [],
   "source": [
    "#for n in range(N):\n",
    "#    for k1 in range(K1+1):\n",
    "#        for k2 in range(K2+1):\n",
    "#            mp = getMarginalProbability(n, [k1, k2], alpha, mu)\n",
    "#            print('mp({0})({1},{2}) = {3}'.format(n, k1, k2, mp))"
   ]
  },
  {
   "cell_type": "code",
   "execution_count": 35,
   "metadata": {},
   "outputs": [
    {
     "name": "stdout",
     "output_type": "stream",
     "text": [
      "mp(0)([0, 0]) = 0.647434997144275\n",
      "mp(0)([0, 1]) = 0.19512560508599947\n",
      "mp(0)([0, 2]) = 0.033706918344990316\n",
      "mp(0)([1, 0]) = 0.06380906903364138\n",
      "mp(0)([1, 1]) = 0.04587886108068126\n",
      "mp(0)([1, 2]) = 0.01404454931041263\n",
      "mp(1)([0, 0]) = 0.5925769875378033\n",
      "mp(1)([0, 1]) = 0.17855303689971253\n",
      "mp(1)([0, 2]) = 0.03089800848290779\n",
      "mp(1)([1, 0]) = 0.10209451045382623\n",
      "mp(1)([1, 1]) = 0.07340617772909001\n",
      "mp(1)([1, 2]) = 0.02247127889666021\n",
      "mp(2)([0, 0]) = 0.31572146849807575\n",
      "mp(2)([0, 1]) = 0.17274795651807534\n",
      "mp(2)([0, 2]) = 0.05266705991404736\n",
      "mp(2)([1, 0]) = 0.15999550574422072\n",
      "mp(2)([1, 1]) = 0.19774725429060983\n",
      "mp(2)([1, 2]) = 0.10112075503497092\n",
      "mp(3)([0, 0]) = 0.39114069829499176\n",
      "mp(3)([0, 1]) = 0.31122721271874376\n",
      "mp(3)([0, 2]) = 0.07820005056037753\n",
      "mp(3)([1, 0]) = 0.09269402544872338\n",
      "mp(3)([1, 1]) = 0.09437937136597288\n",
      "mp(3)([1, 2]) = 0.0323586416111907\n"
     ]
    }
   ],
   "source": [
    "combi_list = []\n",
    "combi_list = getCombiList2([], K, R, 0, combi_list)\n",
    "for n in range(N):\n",
    "    for k in combi_list:\n",
    "        mp = getMarginalProbability(n, k, alpha, mu)\n",
    "        print('mp({0})({1}) = {2}'.format(n, k, mp))"
   ]
  },
  {
   "cell_type": "code",
   "execution_count": 36,
   "metadata": {},
   "outputs": [],
   "source": [
    "#def getMarginalProbabilitySet(alpha, mu): #全ての周辺分布を求める\n",
    "#    mp_set= np.zeros((N, K1+1, K2+1)) #周辺分布\n",
    "#    for n in range(N):\n",
    "#        for k1 in range(K1+1):\n",
    "#            for k2 in range(K2+1):\n",
    "#                mp = getMarginalProbability(n, [k1, k2], alpha, mu)\n",
    "#                mp_set[n,k1,k2] = mp\n",
    "#    return mp_set"
   ]
  },
  {
   "cell_type": "code",
   "execution_count": 37,
   "metadata": {},
   "outputs": [],
   "source": [
    "def getMarginalProbabilitySet(alpha, mu): #全ての周辺分布を求める\n",
    "    NK = [k+1 for k in K]\n",
    "    NK.insert(0, N)\n",
    "    mp_set= np.zeros(NK) #周辺分布\n",
    "    combi_list = []\n",
    "    combi_list = getCombiList2([], K, R, 0, combi_list)\n",
    "    for n in range(N):\n",
    "        for k in combi_list:\n",
    "            nk = []\n",
    "            nk.append([n])\n",
    "            for i in k: #ndarrayでリストで要素を指定するときには[[n],[k1],[k2]]のように[]をつけて、タプルにする\n",
    "                nk.append([i])\n",
    "            mp = getMarginalProbability(n, k, alpha, mu)\n",
    "            mp_set[tuple(nk)] = mp\n",
    "    return mp_set"
   ]
  },
  {
   "cell_type": "code",
   "execution_count": 38,
   "metadata": {},
   "outputs": [
    {
     "data": {
      "text/plain": [
       "array([[[0.647435  , 0.19512561, 0.03370692],\n",
       "        [0.06380907, 0.04587886, 0.01404455]],\n",
       "\n",
       "       [[0.59257699, 0.17855304, 0.03089801],\n",
       "        [0.10209451, 0.07340618, 0.02247128]],\n",
       "\n",
       "       [[0.31572147, 0.17274796, 0.05266706],\n",
       "        [0.15999551, 0.19774725, 0.10112076]],\n",
       "\n",
       "       [[0.3911407 , 0.31122721, 0.07820005],\n",
       "        [0.09269403, 0.09437937, 0.03235864]]])"
      ]
     },
     "execution_count": 38,
     "metadata": {},
     "output_type": "execute_result"
    }
   ],
   "source": [
    "mp_set = getMarginalProbabilitySet(alpha, mu) #[(0,0),(0,1),(0,2)],[(1,0),(1,1),(1,2)]\n",
    "mp_set"
   ]
  },
  {
   "cell_type": "code",
   "execution_count": 39,
   "metadata": {},
   "outputs": [],
   "source": [
    "#平均系内人数を求める\n",
    "#def getEXP(mp_set):\n",
    "#    exp = np.zeros((N, R))\n",
    "#    for n in range(N):\n",
    "#        for k1 in range(K1+1): #課題：クラスの増減に対応する\n",
    "#            for k2 in range(K2+1):\n",
    "#                exp[n,0] += k1 * mp_set[n,k1,k2]\n",
    "#                exp[n,1] += k2 * mp_set[n,k1,k2]\n",
    "#    return exp"
   ]
  },
  {
   "cell_type": "code",
   "execution_count": 40,
   "metadata": {},
   "outputs": [],
   "source": [
    "#平均系内人数を求める\n",
    "def getEXP(mp_set):\n",
    "    exp = np.zeros((N, R))\n",
    "    combi_list = []\n",
    "    combi_list = getCombiList2([], K, R, 0, combi_list)\n",
    "    for n in range(N):\n",
    "        for k in combi_list:\n",
    "            nk = []\n",
    "            nk.append([n])\n",
    "            for i in k: #ndarrayでリストで要素を指定するときには[[n],[k1],[k2]]のように[]をつけて、タプルにする\n",
    "                nk.append([i])\n",
    "            for r in range(R):\n",
    "                exp[n,r] += k[r] * mp_set[tuple(nk)]\n",
    "    return exp"
   ]
  },
  {
   "cell_type": "code",
   "execution_count": 41,
   "metadata": {},
   "outputs": [
    {
     "data": {
      "text/plain": [
       "array([[0.12373248, 0.3365074 ],\n",
       "       [0.19797197, 0.35869779],\n",
       "       [0.45886352, 0.67807084],\n",
       "       [0.21943204, 0.62672397]])"
      ]
     },
     "execution_count": 41,
     "metadata": {},
     "output_type": "execute_result"
    }
   ],
   "source": [
    "exp = getEXP(mp_set)\n",
    "exp"
   ]
  },
  {
   "cell_type": "code",
   "execution_count": 42,
   "metadata": {},
   "outputs": [],
   "source": [
    "#スループット算出\n",
    "#def getThroughput(alpha, mu):\n",
    "#    tp = np.zeros((N, R))\n",
    "#    for n in range(N):\n",
    "#        for r in range(R): \n",
    "#            if r == 0:#課題：クラスの増減に対応\n",
    "#                tp[n,r] = alpha[n,r] * getConvolution(N-1, alpha, mu, [K1-1, K2], type_list[N-1]) / GK\n",
    "#                #getConvolutionはn=Nのときを求める\n",
    "#            elif r == 1:\n",
    "#                tp[n,r] = alpha[n,r] * getConvolution(N-1, alpha, mu, [K1, K2-1], type_list[N-1]) / GK\n",
    "#    return tp"
   ]
  },
  {
   "cell_type": "code",
   "execution_count": 43,
   "metadata": {},
   "outputs": [],
   "source": [
    "#スループット算出\n",
    "def getThroughput(alpha, mu):\n",
    "    tp = np.zeros((N, R))\n",
    "    for n in range(N):\n",
    "        for r in range(R):\n",
    "            r1 = np.zeros(R, dtype = int)\n",
    "            r1[r] = 1\n",
    "            tp[n,r] = alpha[n,r] * getConvolution(N-1, alpha, mu, np.array(K) - r1, type_list[N-1]) / GK\n",
    "    return tp"
   ]
  },
  {
   "cell_type": "code",
   "execution_count": 44,
   "metadata": {},
   "outputs": [
    {
     "data": {
      "text/plain": [
       "array([[0.09143002, 0.13056749],\n",
       "       [0.03657201, 0.052227  ],\n",
       "       [0.03657201, 0.03917025],\n",
       "       [0.018286  , 0.03917025]])"
      ]
     },
     "execution_count": 44,
     "metadata": {},
     "output_type": "execute_result"
    }
   ],
   "source": [
    "tp = getThroughput(alpha, mu)\n",
    "tp"
   ]
  },
  {
   "cell_type": "code",
   "execution_count": 45,
   "metadata": {},
   "outputs": [
    {
     "data": {
      "text/plain": [
       "array([0.09143002, 0.14628803, 0.29257605, 0.21943204])"
      ]
     },
     "execution_count": 45,
     "metadata": {},
     "output_type": "execute_result"
    }
   ],
   "source": [
    "#利用率算出\n",
    "tp[:,0] / mu[:,0]"
   ]
  },
  {
   "cell_type": "code",
   "execution_count": 46,
   "metadata": {},
   "outputs": [
    {
     "data": {
      "text/plain": [
       "array([1.        , 0.25      , 0.125     , 0.08333333])"
      ]
     },
     "execution_count": 46,
     "metadata": {},
     "output_type": "execute_result"
    }
   ],
   "source": [
    "mu[:,0]"
   ]
  },
  {
   "cell_type": "code",
   "execution_count": 47,
   "metadata": {},
   "outputs": [
    {
     "data": {
      "text/plain": [
       "array([[0.09143002, 0.26113499],\n",
       "       [0.14628803, 0.26113499],\n",
       "       [0.29257605, 0.39170248],\n",
       "       [0.21943204, 0.62672397]])"
      ]
     },
     "execution_count": 47,
     "metadata": {},
     "output_type": "execute_result"
    }
   ],
   "source": [
    "#利用率算出 P322 式(8.29)lambda / (m * mu) 今回はm = 1 \n",
    "rho_n = tp / mu\n",
    "rho_n"
   ]
  },
  {
   "cell_type": "code",
   "execution_count": 48,
   "metadata": {},
   "outputs": [],
   "source": [
    "#kのリスト(重複組合せ)を作成：ここでは使わない\n",
    "import itertools #重複組合せを求める\n",
    "def getCombi(N,K):\n",
    "    #s = combinations_count(N, K)#重複組み合わせ\n",
    "    l = [i for i in range(N)]\n",
    "    p_list = list(itertools.combinations_with_replacement(l, K))\n",
    "    combi = [[0 for i in range(N)] for j in range(len(p_list))]\n",
    "    for ind, p in enumerate(p_list):\n",
    "        for k in range(K):\n",
    "            combi[ind][p[k]] += 1\n",
    "    return combi"
   ]
  },
  {
   "cell_type": "code",
   "execution_count": 49,
   "metadata": {},
   "outputs": [
    {
     "data": {
      "text/plain": [
       "[[3, 0], [2, 1], [1, 2], [0, 3]]"
      ]
     },
     "execution_count": 49,
     "metadata": {},
     "output_type": "execute_result"
    }
   ],
   "source": [
    "combi = getCombi(R, K1+K2)\n",
    "combi\n",
    "#求めたいのはこれではない。[0,0],[1,0],[1,1],[0,1][1,2]のように総数は一定でないが、制限での総組み合わせ\n",
    "#制限をリストで渡して、再帰で計算すればいい？"
   ]
  },
  {
   "cell_type": "markdown",
   "metadata": {},
   "source": [
    "## 推移確率行列の算出"
   ]
  },
  {
   "cell_type": "code",
   "execution_count": 50,
   "metadata": {},
   "outputs": [],
   "source": [
    "from numpy.linalg import solve \n",
    "def getCloseTraffic(p):\n",
    "    e = np.eye(len(p)-1) #次元を1つ小さくする\n",
    "    #print(e)\n",
    "    pe = p[1:len(p), 1:len(p)].T - e #行と列を指定して次元を小さくする\n",
    "    #print(pe)\n",
    "    lmd = p[0, 1:len(p)] #0行1列からの値を右辺に用いる\n",
    "    #print(lmd)\n",
    "    slv = solve(pe, lmd * (-1))\n",
    "    alpha = np.insert(slv, 0, 1.0) #α1=1を追加\n",
    "    return alpha"
   ]
  },
  {
   "cell_type": "code",
   "execution_count": 51,
   "metadata": {},
   "outputs": [
    {
     "name": "stdout",
     "output_type": "stream",
     "text": [
      "[[0.  0.5 0.5 0. ]\n",
      " [0.  0.  0.  1. ]\n",
      " [0.  0.  0.  1. ]\n",
      " [1.  0.  0.  0. ]]\n"
     ]
    },
    {
     "data": {
      "text/plain": [
       "array([1. , 0.5, 0.5, 1. ])"
      ]
     },
     "execution_count": 51,
     "metadata": {},
     "output_type": "execute_result"
    }
   ],
   "source": [
    "# QN&MC P333 Example 8.4\n",
    "p = np.array([[0,0.5,0.5,0],[0,0,0,1],[0,0,0,1],[1,0,0,0]])\n",
    "print(p)\n",
    "alpha = getCloseTraffic(p)\n",
    "alpha #結果OK"
   ]
  },
  {
   "cell_type": "code",
   "execution_count": 52,
   "metadata": {},
   "outputs": [
    {
     "name": "stdout",
     "output_type": "stream",
     "text": [
      "[[0.  0.5 0.5 0. ]\n",
      " [0.5 0.  0.  0.5]\n",
      " [0.5 0.  0.  0.5]\n",
      " [0.  0.4 0.4 0.2]]\n"
     ]
    },
    {
     "data": {
      "text/plain": [
       "array([1.  , 1.  , 1.  , 1.25])"
      ]
     },
     "execution_count": 52,
     "metadata": {},
     "output_type": "execute_result"
    }
   ],
   "source": [
    "#QN&MC P370 Example 8.10\n",
    "p = np.array([[0, 0.5, 0.5, 0],[0.5, 0, 0, 0.5],[0.5, 0, 0, 0.5],[0, 0.4, 0.4, 0.2]])\n",
    "print(p)\n",
    "alpha = getCloseTraffic(p)\n",
    "alpha #結果OK"
   ]
  },
  {
   "cell_type": "code",
   "execution_count": 53,
   "metadata": {},
   "outputs": [],
   "source": [
    "#マルチクラスの場合\n",
    "p = np.array([[0,0.5,0.5,0,0,0,0,0],[0,0,0,1,0,0,0,0],[0,0,0,1,0,0,0,0],[1,0,0,0,0,0,0,0],\n",
    "             [0,0,0,0,0,0.5,0.5,0],[0,0,0,0,0,0,0,1],[0,0,0,0,0,0,0,1],[0,0,0,0,1,0,0,0]])\n",
    "#alpha = getCloseTraffic(p)\n",
    "#alpha\n",
    "#マルチクラスでクラススイッチなしの場合は、それぞれのクラスでα1=1としないといけないので、クラススイッチない場合はクラス一つずつ実施して到着率αを得る方が良い"
   ]
  },
  {
   "cell_type": "code",
   "execution_count": 54,
   "metadata": {},
   "outputs": [
    {
     "name": "stdout",
     "output_type": "stream",
     "text": [
      "[1.86810187 0.59399777 2.16848436 2.78429651]\n",
      "1.8681018651945136\n",
      "[1. 1. 1. 1.]\n"
     ]
    },
    {
     "data": {
      "text/plain": [
       "array([[0.02462896, 0.40301935, 0.28771739, 0.2846343 ],\n",
       "       [0.43594239, 0.0789044 , 0.48063551, 0.0045177 ],\n",
       "       [0.12557339, 0.39642881, 0.10381272, 0.37418508],\n",
       "       [0.21685482, 0.32373105, 0.18104176, 0.27837238]])"
      ]
     },
     "execution_count": 54,
     "metadata": {},
     "output_type": "execute_result"
    }
   ],
   "source": [
    "#推移確率自動生成\n",
    "p = np.random.rand(N, N)\n",
    "print(np.sum(p, axis=1))\n",
    "print(np.sum(p[0]))\n",
    "for i, val in enumerate(np.sum(p, axis=1)): #正規化 axis=1で行和\n",
    "    p[i] /= val\n",
    "print(np.sum(p, axis=1))\n",
    "p"
   ]
  },
  {
   "cell_type": "code",
   "execution_count": 55,
   "metadata": {},
   "outputs": [],
   "source": [
    "    #同値類を求める関数\n",
    "    def getEquivalence(th, roop, p):\n",
    "        list_number = 0 #空のリストを最初から使用する\n",
    "\n",
    "        #1. 空のリストを作成して、ノードを追加しておく(作成するのはノード数分)\n",
    "        equivalence = [[] for i in range(len(p))] \n",
    "        \n",
    "        #2. Comunicationか判定して、Commnicateの場合リストに登録\n",
    "        for ix in range(roop):\n",
    "            p = np.linalg.matrix_power(p.copy(), ix+1) #累乗\n",
    "            for i in range(len(p)):\n",
    "                for j in range(i+1, len(p)):\n",
    "                    if(p[i][j] > th and p[j][i] > th): #Communicateの場合\n",
    "                        #3. Communicateの場合登録するリストを選択\n",
    "                        find = 0 #既存リストにあるか\n",
    "                        for k in range(len(p)):\n",
    "                            if i in equivalence[k]: #既存のk番目リストに発見(iで検索)\n",
    "                                find = 1 #既存リストにあった\n",
    "                                if j not in equivalence[k]: #jがリストにない場合登録\n",
    "                                    equivalence[k].append(j)        \n",
    "                                break\n",
    "                            if j in equivalence[k]: #既存のk番目リストに発見(jで検索)\n",
    "                                find = 1 #既存リストにあった\n",
    "                                if i not in equivalence[k]:\n",
    "                                    equivalence[k].append(i)        \n",
    "                                break\n",
    "                        if(find == 0):#既存リストにない\n",
    "                            equivalence[list_number].append(i)\n",
    "                            if(i != j):\n",
    "                                equivalence[list_number].append(j)\n",
    "                            list_number += 1\n",
    "\n",
    "        #4. Communicateにならないノードを登録\n",
    "        for i in range(len(p)):\n",
    "            find = 0\n",
    "            for j in range(len(p)):\n",
    "                if i in equivalence[j]:\n",
    "                    find = 1\n",
    "                    break\n",
    "            if find == 0:\n",
    "                equivalence[list_number].append(i)\n",
    "                list_number += 1\n",
    "\n",
    "        #5. エルゴード性の確認(class数が1のとき)\n",
    "        class_number = 0\n",
    "        for i in range(len(p)):\n",
    "            if len(equivalence[i]) > 0:\n",
    "                class_number += 1\n",
    "\n",
    "        return equivalence, class_number"
   ]
  },
  {
   "cell_type": "code",
   "execution_count": 56,
   "metadata": {},
   "outputs": [
    {
     "data": {
      "text/plain": [
       "([[0, 1, 2, 3], [], [], []], 1)"
      ]
     },
     "execution_count": 56,
     "metadata": {},
     "output_type": "execute_result"
    }
   ],
   "source": [
    "getEquivalence(0, 2, p)"
   ]
  },
  {
   "cell_type": "code",
   "execution_count": 57,
   "metadata": {},
   "outputs": [],
   "source": [
    "#クラス数分推移確率行列を生成して、それぞれの到着率を返す関数\n",
    "def getProbArrival(N, R):\n",
    "    pr = np.zeros((R*N, R*N))\n",
    "    alpha = np.zeros((R, N))\n",
    "    for r in range(R):\n",
    "        class_number = 0\n",
    "        while class_number != 1: #エルゴード性を持つか確認\n",
    "            p = np.random.rand(N, N)\n",
    "            for i, val in enumerate(np.sum(p, axis=1)): #正規化 axis=1で行和\n",
    "                p[i] /= val\n",
    "            for i in range(N):#推移確率のマージ\n",
    "                for j in range(N):\n",
    "                    pr[r*N+i,r*N+j] = p[i,j]\n",
    "            equivalence, class_number = getEquivalence(0, 5, p)\n",
    "            if class_number == 1: #クラス数が1(エルゴード性を持つ)\n",
    "                break\n",
    "        alpha_r = getCloseTraffic(p)\n",
    "        for i, val in enumerate(alpha_r): #到着率を配列alphaに格納\n",
    "            alpha[r,i] = val\n",
    "            #print('r = {0}, i = {1}, val = {2}'.format(r,i,val))\n",
    "    return alpha, pr"
   ]
  },
  {
   "cell_type": "code",
   "execution_count": 58,
   "metadata": {},
   "outputs": [],
   "source": [
    "#データの保存\n",
    "def saveCSVi(df, fname):\n",
    "    pdf = pd.DataFrame(df) #データフレームをpandasに変換\n",
    "    pdf.to_csv(fname, index=True) #index=Falseでインデックスを出力しない"
   ]
  },
  {
   "cell_type": "code",
   "execution_count": 59,
   "metadata": {},
   "outputs": [
    {
     "name": "stdout",
     "output_type": "stream",
     "text": [
      "[[0.30377626 0.32476654 0.23425813 0.13719906 0.         0.\n",
      "  0.         0.        ]\n",
      " [0.15576384 0.20032261 0.27903592 0.36487763 0.         0.\n",
      "  0.         0.        ]\n",
      " [0.19564219 0.33614517 0.15313222 0.31508042 0.         0.\n",
      "  0.         0.        ]\n",
      " [0.3418407  0.06179193 0.00679301 0.58957437 0.         0.\n",
      "  0.         0.        ]\n",
      " [0.         0.         0.         0.         0.13525677 0.41941092\n",
      "  0.3691736  0.0761587 ]\n",
      " [0.         0.         0.         0.         0.22187127 0.2458088\n",
      "  0.40627209 0.12604784]\n",
      " [0.         0.         0.         0.         0.16280226 0.26891641\n",
      "  0.30876327 0.25951805]\n",
      " [0.         0.         0.         0.         0.26208431 0.30542858\n",
      "  0.36060725 0.07187986]]\n"
     ]
    },
    {
     "data": {
      "text/plain": [
       "array([[1.        , 0.73715915, 0.53071124, 1.39705861],\n",
       "       [1.        , 1.55580587, 1.87504976, 0.81764623]])"
      ]
     },
     "execution_count": 59,
     "metadata": {},
     "output_type": "execute_result"
    }
   ],
   "source": [
    "import pandas as pd\n",
    "alpha, pr = getProbArrival(4, 2)\n",
    "print(pr)\n",
    "saveCSVi(pr, './tpr/tprNR_'+str(N)+'_'+str(R)+'.csv')\n",
    "alpha\n",
    "# 推移確率行列をランダムに生成して、エルゴード性を持つチェックをして、到着率を算出可能\n",
    "# 課題：生成した推移確率を残しておきたい"
   ]
  },
  {
   "cell_type": "code",
   "execution_count": 60,
   "metadata": {},
   "outputs": [],
   "source": [
    "def getDevideK(K, R):#各クラスの人数を均等に分ける\n",
    "    dev_k = []\n",
    "    for i in range(R-1):\n",
    "        dev_k.append(K // R)\n",
    "    dev_k.append(K - sum(dev_k))\n",
    "    return dev_k"
   ]
  },
  {
   "cell_type": "code",
   "execution_count": 61,
   "metadata": {},
   "outputs": [
    {
     "data": {
      "text/plain": [
       "[2, 2, 2, 4]"
      ]
     },
     "execution_count": 61,
     "metadata": {},
     "output_type": "execute_result"
    }
   ],
   "source": [
    "getDevideK(10, 4)"
   ]
  },
  {
   "cell_type": "code",
   "execution_count": 62,
   "metadata": {},
   "outputs": [
    {
     "data": {
      "text/plain": [
       "[2, 2, 3, 3]"
      ]
     },
     "execution_count": 62,
     "metadata": {},
     "output_type": "execute_result"
    }
   ],
   "source": [
    "K = 10\n",
    "R = 4\n",
    "dev_k = [(K + i) // R for i in range(R)]\n",
    "dev_k"
   ]
  },
  {
   "cell_type": "markdown",
   "metadata": {},
   "source": [
    "## P304 Example 7.7 Open BCMP Network"
   ]
  },
  {
   "cell_type": "code",
   "execution_count": 63,
   "metadata": {},
   "outputs": [],
   "source": [
    "N = 3\n",
    "R = 2\n",
    "type_list = [2, 4, 4]\n",
    "#lmd = np.array([[1,1],[0,0],[0,0]]) #ノード1にしか到着しないので書いていない\n",
    "lmd = np.array([[1,0,0],[1,0,0]])#外部からの到着率\n",
    "p0 = np.array([[1,0,0],[1,0,0]]) #外部からの到着確率\n",
    "lmd_p = lmd * p0 #トラフィック方程式のλに相当するのがlmd_p\n",
    "mu = np.array([[8, 24],[12, 32],[16, 36]])\n",
    "#p = np.array([[0,1,0,0,0,0,0,0],[0.3,0,0.4,0.3,0,0,0,0],[0,0.6,0,0.4,0,0,0,0],[0,0.5,0.5,0,0,0,0,0],[0,0,0,0,0,1,0,0],[0,0,0,0,0.1,0,0.3,0.6],[0,0,0,0,0,0.7,0,0.3],[0,0,0,0,0,0.4,0.6,0]])\n",
    "p = np.array([[0,0.4,0.3,0,0,0],[0.6,0,0.4,0,0,0],[0.5,0.5,0,0,0,0],[0,0,0,0,0.3,0.6],[0,0,0,0.7,0,0.3],[0,0,0,0.4,0.6,0]])"
   ]
  },
  {
   "cell_type": "code",
   "execution_count": 64,
   "metadata": {},
   "outputs": [],
   "source": [
    "#トラフィック方程式の計算\n",
    "#(P^T-E)x = -λ\n",
    "#ie = np.eye(N*R)#単位行列の生成\n",
    "#lmd_pv = np.reshape(lmd_p, N*R) #行列からベクトルに変換\n",
    "#lmd_pv *= -1 #右辺に移項\n",
    "#from numpy.linalg import solve\n",
    "#solve(p.T - ie, lmd_pv)"
   ]
  },
  {
   "cell_type": "code",
   "execution_count": 65,
   "metadata": {},
   "outputs": [],
   "source": [
    "from numpy.linalg import solve\n",
    "def getTraffic(N, R, p, lmd):\n",
    "    ie = np.eye(N*R) #単位行列の生成\n",
    "    lmd_pv = np.reshape(lmd_p, N*R) #行列からベクトルに変換\n",
    "    lmd_pv *= -1 #右辺に移項\n",
    "    return solve(p.T - ie, lmd_pv)#(P^T-E)x = -λ"
   ]
  },
  {
   "cell_type": "code",
   "execution_count": 66,
   "metadata": {},
   "outputs": [
    {
     "data": {
      "text/plain": [
       "array([[ 3.33333333,  2.29166667,  1.91666667],\n",
       "       [10.        ,  8.04878049,  8.41463415]])"
      ]
     },
     "execution_count": 66,
     "metadata": {},
     "output_type": "execute_result"
    }
   ],
   "source": [
    "alpha = getTraffic(N, R, p, lmd)\n",
    "alpha_m = np.reshape(alpha,[R,N])\n",
    "alpha_m"
   ]
  },
  {
   "cell_type": "code",
   "execution_count": 67,
   "metadata": {},
   "outputs": [
    {
     "name": "stdout",
     "output_type": "stream",
     "text": [
      "[[0.41666667 0.19097222 0.11979167]\n",
      " [0.41666667 0.25152439 0.23373984]]\n",
      "[0.83333333 0.44249661 0.3535315 ]\n"
     ]
    }
   ],
   "source": [
    "#utilization P306\n",
    "rho = alpha_m / mu.T\n",
    "print(rho)\n",
    "rho_column = np.sum(rho, axis=0)\n",
    "print(rho_column)"
   ]
  },
  {
   "cell_type": "code",
   "execution_count": 68,
   "metadata": {},
   "outputs": [
    {
     "data": {
      "text/plain": [
       "array([[2.5       , 0.34254899, 0.18530163],\n",
       "       [2.5       , 0.45116208, 0.36156416]])"
      ]
     },
     "execution_count": 68,
     "metadata": {},
     "output_type": "execute_result"
    }
   ],
   "source": [
    "# Mean number of jobs P306\n",
    "L = np.zeros((R, N))\n",
    "for i in range(R):\n",
    "    for j in range(N):\n",
    "        L[i,j] = rho[i,j] / (1 - rho_column[j])\n",
    "L"
   ]
  },
  {
   "cell_type": "code",
   "execution_count": 69,
   "metadata": {},
   "outputs": [
    {
     "name": "stdout",
     "output_type": "stream",
     "text": [
      "pi(0, 0) = 0.16666666666666718\n",
      "pi(0, 1) = 0.13888888888888923\n",
      "pi(0, 2) = 0.11574074074074095\n",
      "pi(0, 3) = 0.09645061728395074\n",
      "pi(1, 0) = 0.5575033875338757\n",
      "pi(1, 1) = 0.24669336042212892\n",
      "pi(1, 2) = 0.10916097630467668\n",
      "pi(1, 3) = 0.048303362228314294\n",
      "pi(2, 0) = 0.6464684959349597\n",
      "pi(2, 1) = 0.2285469796985507\n",
      "pi(2, 2) = 0.08079855748235086\n",
      "pi(2, 3) = 0.028564835553021115\n"
     ]
    }
   ],
   "source": [
    "# Marginal Probabilities\n",
    "for i in range(N):\n",
    "    for j in range(4):\n",
    "        print('pi({0}, {1}) = {2}'.format(i, j, (1 - rho_column[i])*rho_column[i]**j))"
   ]
  },
  {
   "cell_type": "markdown",
   "metadata": {},
   "source": [
    "### The Mean Value Analysis"
   ]
  },
  {
   "cell_type": "markdown",
   "metadata": {},
   "source": [
    "### P333 Example8.3 (Single Class Closed Queue)"
   ]
  },
  {
   "cell_type": "code",
   "execution_count": 73,
   "metadata": {},
   "outputs": [],
   "source": [
    "#P333 Example8.3\n",
    "N = 4\n",
    "K = 6\n",
    "R = 1\n",
    "mu = np.array([1/0.02, 1/0.2, 1/0.4, 1/0.6])\n",
    "m = np.array([1, 1, 1, 1])\n",
    "alpha = np.array([1.0, 0.4, 0.2, 0.1])"
   ]
  },
  {
   "cell_type": "code",
   "execution_count": 99,
   "metadata": {},
   "outputs": [],
   "source": [
    "#Step 1\n",
    "L = np.zeros(N) #平均形内人数\n",
    "T = np.zeros(N) #平均系内時間\n",
    "lmd = 0 #全体スループット\n",
    "lmd_n = np.zeros(N) #各ノードのスループット\n",
    "G = 1\n",
    "Gk1 = 1 #G(K-1)を入れておく\n",
    "rho = np.zeros(N) #利用率"
   ]
  },
  {
   "cell_type": "code",
   "execution_count": 100,
   "metadata": {},
   "outputs": [
    {
     "name": "stdout",
     "output_type": "stream",
     "text": [
      "Mean Respons Time T : [0.02455839 0.56982739 1.13965479 1.24428379]\n",
      "Throughput Lambda : [9.91983634 3.96793453 1.98396727 0.99198363]\n",
      "Mean number of job L : [0.24361526 2.26103779 2.26103779 1.23430916]\n",
      "Utilization : rho [0.19839673 0.79358691 0.79358691 0.59519018]\n",
      "Throughput Lambda : 9.919836337154358\n",
      "Normalization Constant G : 5.756224000000001e-06\n"
     ]
    }
   ],
   "source": [
    "#Step 2\n",
    "for k in range(K): #系内人数分くりかえす\n",
    "    #Step 2.1 P330 (8.38) 系内時間に更新\n",
    "    for n in range(N):\n",
    "        T[n] = (1 + L[n]) / mu[n]\n",
    "    \n",
    "    #Step 2.2 P330 (8.39) 全体スループットを求める\n",
    "    sum_at = 0\n",
    "    for n in range(N):\n",
    "        sum_at += alpha[n] * T[n]\n",
    "        lmd = (k + 1) / sum_at\n",
    "        \n",
    "    #P330 (8.40) 各ノードのスループット\n",
    "    for n in range(N):\n",
    "        lmd_n[n] = alpha[n] * lmd\n",
    "    \n",
    "    #P330 (8.42) 正規化定数の更新\n",
    "    if k == K-1: #G(K-1)を確保\n",
    "        GK1 = G\n",
    "    G /= lmd\n",
    "    \n",
    "    #Step 2.3 系内人数の更新\n",
    "    for n in range(N):\n",
    "        L[n] = lmd * T[n] * alpha[n]\n",
    "        \n",
    "# 利用率の計算 P317 (8.15)\n",
    "for n in range(N):\n",
    "    rho[n] = alpha[n] / (m[n] * mu[n]) * GK1 / G\n",
    "\n",
    "#P332 Table 8.4    \n",
    "print('Mean Respons Time T : {0}'.format(T))\n",
    "print('Throughput Lambda : {0}'.format(lmd_n))\n",
    "print('Mean number of job L : {0}'.format(L))\n",
    "print('Utilization : rho {0}'.format(rho))\n",
    "\n",
    "print('Throughput Lambda : {0}'.format(lmd))\n",
    "print('Normalization Constant G : {0}'.format(G))"
   ]
  },
  {
   "cell_type": "code",
   "execution_count": 101,
   "metadata": {},
   "outputs": [
    {
     "name": "stdout",
     "output_type": "stream",
     "text": [
      "pi([3, 1, 1, 1]) = 0.0005336831923149621\n"
     ]
    }
   ],
   "source": [
    "#定常分布の算出 P332\n",
    "k_n = [3,1,1,1]\n",
    "sum = 1\n",
    "for n in range(N):\n",
    "    sum *= (alpha[n] / mu[n])**k_n[n]\n",
    "pi = sum / G\n",
    "print('pi({0}) = {1}'.format(k_n, pi))"
   ]
  },
  {
   "cell_type": "code",
   "execution_count": null,
   "metadata": {},
   "outputs": [],
   "source": []
  }
 ],
 "metadata": {
  "kernelspec": {
   "display_name": "Python 3",
   "language": "python",
   "name": "python3"
  },
  "language_info": {
   "codemirror_mode": {
    "name": "ipython",
    "version": 3
   },
   "file_extension": ".py",
   "mimetype": "text/x-python",
   "name": "python",
   "nbconvert_exporter": "python",
   "pygments_lexer": "ipython3",
   "version": "3.8.3"
  }
 },
 "nbformat": 4,
 "nbformat_minor": 4
}
